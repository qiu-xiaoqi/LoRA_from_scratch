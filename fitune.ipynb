{
 "cells": [
  {
   "cell_type": "code",
   "execution_count": null,
   "metadata": {},
   "outputs": [
    {
     "name": "stdout",
     "output_type": "stream",
     "text": [
      "device:cuda\n",
      "dtype:torch.bfloat16\n"
     ]
    }
   ],
   "source": [
    "import copy\n",
    "import json\n",
    "import torch\n",
    "import torch.nn as nn\n",
    "import torch.optim as optim\n",
    "import torch.nn.functional as F \n",
    "\n",
    "from tqdm import tqdm\n",
    "from typing import List\n",
    "from einops import rearrange\n",
    "from datasets import load_dataset\n",
    "from torch.utils.data import Dataset, DataLoader\n",
    "from transformers import AutoConfig, AutoTokenizer, AutoModel, AutoModelForCausalLM\n",
    "from lora_from_scratch import *\n",
    "device = 'cuda' if torch.cuda.is_available() else 'cpu' \n",
    "dtype = torch.bfloat16 if torch.cuda.is_available() else torch.float32\n",
    "print(f'device:{device}\\ndtype:{dtype}')"
   ]
  },
  {
   "cell_type": "markdown",
   "metadata": {},
   "source": [
    "模型选用 LiteLlama-460M-1T，数据集选用 vicgalle/alpaca-gpt4"
   ]
  },
  {
   "cell_type": "code",
   "execution_count": null,
   "metadata": {},
   "outputs": [],
   "source": [
    "# 模型和数据路径都可以改成本地的\n",
    "model_name_or_path = 'ahxt/LiteLlama-460M-1T'\n",
    "data_name_or_path = 'vicgalle/alpaca-gpt4'"
   ]
  },
  {
   "cell_type": "code",
   "execution_count": null,
   "metadata": {},
   "outputs": [],
   "source": [
    "tokenizer = AutoTokenizer.from_pretrained(model_name_or_path)\n",
    "tokenizer.pad_token_id = tokenizer.eos_token_id\n",
    "tokenizer.padding_side = 'left'\n",
    "model = AutoModelForCausalLM.from_pretrained(model_name_or_path, torch_dtype=dtype).to(device)"
   ]
  },
  {
   "cell_type": "code",
   "execution_count": null,
   "metadata": {},
   "outputs": [],
   "source": [
    "# 获取 lora model\n",
    "replace_linear_with_lora(model, r=8, alpha=16, dropout_p=0.0)\n",
    "model.to(device)\n",
    "\n",
    "# 查看可训练参数\n",
    "print_trainable_parameters(model)\n",
    "     "
   ]
  },
  {
   "cell_type": "code",
   "execution_count": null,
   "metadata": {},
   "outputs": [],
   "source": [
    "# 定义训练数据集\n",
    "class SFTDataset(Dataset):\n",
    "    def __init__(self,\n",
    "        tokenizer: AutoTokenizer,\n",
    "        data_path: str,\n",
    "        load_local: bool = False,\n",
    "        max_len: int = 256,\n",
    "        split_len: str = '1%',\n",
    "    ):\n",
    "        super().__init__()\n",
    "        self.tokenizer = tokenizer\n",
    "\n",
    "        if load_local:\n",
    "            self.ds = load_dataset('json', data_dir=data_path, split=f'train[:{split_len}]')\n",
    "        else:\n",
    "            self.ds = load_dataset(data_path, split=f'train[:{split_len}]')\n",
    "        self.max_len = max_len\n",
    "\n",
    "        def process_func(example):\n",
    "            # 提取 instruction 和 input\n",
    "            instruction = example['instruction'].strip()\n",
    "            input = example['input'].strip()\n",
    "            output = example['output'].strip()\n",
    "\n",
    "            # 构造模板\n",
    "            instruction_prompt = f\"Human: {instruction}\\n\" + \\\n",
    "                                    (f\"{input}\\n\" if len(input) > 0 else \"\") + \\\n",
    "                                    \"Assistant: \"\n",
    "            output_prompt = f\"{output}\\n\"\n",
    "\n",
    "            # 截断，最大不超过 max_len\n",
    "            tokenized_instruction = self.tokenizer(instruction_prompt, add_special_tokens=False)['input_ids']\n",
    "            tokenized_output = self.tokenizer(output_prompt, add_special_tokens=False)['input_ids']\n",
    "            tokenized_prompt = (tokenized_instruction + tokenized_output)[:self.max_len]\n",
    "\n",
    "            # 构造 input_ids, attention_mask, labels\n",
    "            input_ids = tokenized_prompt[:-1]\n",
    "            padding_mask = ([0] * len(tokenized_instruction) + [1] * (len(tokenized_output)))[:self.max_len][1:]\n",
    "            labels = tokenized_prompt[1:]\n",
    "\n",
    "            return {\n",
    "                'input_ids': torch.LongTensor(input_ids),\n",
    "                'attention_mask': torch.LongTensor(padding_mask),\n",
    "                'labels': torch.LongTensor(labels),\n",
    "            }\n",
    "\n",
    "        self.ds = self.ds.map(\n",
    "            process_func,\n",
    "            batched=False,\n",
    "            remove_columns=self.ds.column_names,\n",
    "            desc='Processing dataset',\n",
    "        )\n",
    "\n",
    "    def __len__(self):\n",
    "        return len(self.ds)\n",
    "\n",
    "    def __getitem__(self, index: int):\n",
    "        return self.ds[index]\n",
    "     "
   ]
  },
  {
   "cell_type": "code",
   "execution_count": null,
   "metadata": {},
   "outputs": [],
   "source": [
    "ds = SFTDataset(tokenizer, data_name_or_path, load_local=False)"
   ]
  },
  {
   "cell_type": "code",
   "execution_count": null,
   "metadata": {},
   "outputs": [],
   "source": [
    "print(len(ds[0]['input_ids']))\n",
    "print(len(ds[0]['attention_mask']))\n",
    "print(len(ds[0]['labels']))"
   ]
  },
  {
   "cell_type": "code",
   "execution_count": null,
   "metadata": {},
   "outputs": [],
   "source": [
    "def collate_fn(batch: List, tokenizer):\n",
    "    max_len = max(len(item['input_ids']) for item in batch)\n",
    "\n",
    "    input_ids = []\n",
    "    attention_mask = []\n",
    "    labels = []\n",
    "\n",
    "    for item in batch:\n",
    "        input_id = item['input_ids']\n",
    "        attention_mask_item = item['attention_mask']\n",
    "        label = item['labels']\n",
    "\n",
    "        # 计算填充长度\n",
    "        pad_len = max_len - len(input_id)\n",
    "\n",
    "        # 左填充\n",
    "        input_ids.append([tokenizer.eos_token_id] * pad_len + input_id)\n",
    "        attention_mask.append([0] * pad_len + attention_mask_item)\n",
    "        labels.append([tokenizer.eos_token_id] * pad_len + label)\n",
    "\n",
    "    # 将列表转换为张量\n",
    "    input_ids = torch.LongTensor(input_ids)\n",
    "    attention_mask = torch.LongTensor(attention_mask)\n",
    "    labels = torch.LongTensor(labels)\n",
    "\n",
    "    return {\n",
    "        'input_ids': input_ids,\n",
    "        'attention_mask': attention_mask,\n",
    "        'labels': labels,\n",
    "    }"
   ]
  },
  {
   "cell_type": "code",
   "execution_count": null,
   "metadata": {},
   "outputs": [],
   "source": [
    "bsz = 16\n",
    "lr = 1e-3\n",
    "num_epochs = 10\n",
    "logging_steps = 5\n",
    "max_grad_norm = 1.0"
   ]
  },
  {
   "cell_type": "code",
   "execution_count": null,
   "metadata": {},
   "outputs": [],
   "source": [
    "dataloader = DataLoader(ds, batch_size=bsz, shuffle=True, collate_fn=lambda batch: collate_fn(batch, tokenizer))"
   ]
  },
  {
   "cell_type": "code",
   "execution_count": null,
   "metadata": {},
   "outputs": [],
   "source": [
    "for batch in dataloader:\n",
    "    print(batch['input_ids'].shape)\n",
    "    print(batch['attention_mask'].shape)\n",
    "    print(batch['labels'].shape)\n",
    "    break"
   ]
  },
  {
   "cell_type": "code",
   "execution_count": null,
   "metadata": {},
   "outputs": [],
   "source": [
    "optimizer = optim.AdamW(model.parameters(), lr=lr)"
   ]
  },
  {
   "cell_type": "code",
   "execution_count": null,
   "metadata": {},
   "outputs": [],
   "source": [
    "model.train()\n",
    "\n",
    "total_loss = 0\n",
    "total_step = 0\n",
    "for epoch in range(num_epochs):\n",
    "    for step, batch in enumerate(tqdm(dataloader, desc=f\"Epoch {epoch+1}/{num_epochs}\")):\n",
    "        input_ids = batch['input_ids'].to(device)\n",
    "        attention_mask = batch['attention_mask'].to(device)\n",
    "        labels = batch['labels'].to(device)\n",
    "\n",
    "        optimizer.zero_grad()\n",
    "        outputs = model(input_ids, attention_mask=attention_mask, labels=labels)\n",
    "        logits = outputs.logits\n",
    "        rearranged_logits = rearrange(logits, 'bsz seq_len vocab_size -> (bsz seq_len) vocab_size')\n",
    "        rearranged_attention_mask = rearrange(attention_mask, 'bsz seq_len -> (bsz seq_len)')\n",
    "        rearranged_labels = rearrange(labels, 'bsz seq_len -> (bsz seq_len)')\n",
    "\n",
    "        sum_loss = F.cross_entropy(rearranged_logits, rearranged_labels, ignore_index=0, reduction='none')\n",
    "        loss = torch.sum(sum_loss * rearranged_attention_mask) / torch.sum(rearranged_attention_mask)\n",
    "        loss.backward()\n",
    "\n",
    "        # 计算梯度范数并裁剪\n",
    "        total_norm = nn.utils.clip_grad_norm_(model.parameters(), max_grad_norm)\n",
    "\n",
    "        optimizer.step()\n",
    "        total_loss += loss.item()\n",
    "\n",
    "        total_step += 1\n",
    "        if total_step % logging_steps == 0:\n",
    "            avg_loss = total_loss / total_step\n",
    "            print(f\"Step: {step+1}/{len(dataloader)}, Loss: {avg_loss:.4f}, Grad Norm: {total_norm:.4f}\", flush=True)\n",
    "\n",
    "\n",
    "    # 打印每个 epoch 结束的累计损失\n",
    "    print(f\"Epoch {epoch+1} finished, Average Loss: {total_loss / total_step:.4f}\", flush=True)"
   ]
  },
  {
   "cell_type": "code",
   "execution_count": null,
   "metadata": {},
   "outputs": [],
   "source": [
    "def inference(\n",
    "    model,\n",
    "    tokenizer,\n",
    "    text: str,\n",
    "    max_new_tokens: int = 200,\n",
    "    do_sample: bool = True,\n",
    "    top_k: int = 40,\n",
    "    temperature: float = 0.3,\n",
    "):\n",
    "    instruction_prompt = f\"Human: {text}\\nAssistant: \"\n",
    "    prompt = tokenizer(instruction_prompt, return_tensors='pt', add_special_tokens=False).to(device)\n",
    "    outputs = model.generate(\n",
    "        **prompt,\n",
    "        max_new_tokens=max_new_tokens,\n",
    "        do_sample=do_sample,\n",
    "        top_k=top_k,\n",
    "        temperature=temperature,\n",
    "    )\n",
    "    response = tokenizer.batch_decode(outputs, skip_special_tokens=True)[0]\n",
    "    return response"
   ]
  },
  {
   "cell_type": "code",
   "execution_count": null,
   "metadata": {},
   "outputs": [],
   "source": [
    "for test_text in [\n",
    "    'Give three tips for staying healthy.',\n",
    "    'What are the three primary colors?',\n",
    "    'Describe the structure of an atom.',\n",
    "]:\n",
    "    print('=' * 80)\n",
    "    print(inference(model, tokenizer, test_text))"
   ]
  },
  {
   "cell_type": "markdown",
   "metadata": {},
   "source": [
    "# 2.SFT"
   ]
  },
  {
   "cell_type": "markdown",
   "metadata": {},
   "source": [
    "模型选用 Qwen/Qwen1.5-0.5B，数据集选用 bio-nlp-umass/bioinstruct"
   ]
  },
  {
   "cell_type": "code",
   "execution_count": null,
   "metadata": {},
   "outputs": [],
   "source": [
    "# 模型和数据路径都可以改成本地的\n",
    "model_name_or_path = 'Qwen/Qwen1.5-0.5B'\n",
    "data_name_or_path = 'bio-nlp-umass/bioinstruct'"
   ]
  },
  {
   "cell_type": "code",
   "execution_count": null,
   "metadata": {},
   "outputs": [],
   "source": [
    "tokenizer = AutoTokenizer.from_pretrained(model_name_or_path)\n",
    "tokenizer.pad_token_id = tokenizer.eos_token_id\n",
    "tokenizer.padding_side = 'left'\n",
    "\n",
    "model = AutoModelForCausalLM.from_pretrained(model_name_or_path, torch_dtype=dtype).to(device)"
   ]
  },
  {
   "cell_type": "code",
   "execution_count": null,
   "metadata": {},
   "outputs": [],
   "source": [
    "# 获取 lora model\n",
    "replace_linear_with_lora(model, r=8, alpha=16, dropout_p=0.0)\n",
    "model.to(device)\n",
    "\n",
    "# 查看可训练参数\n",
    "print_trainable_parameters(model)"
   ]
  },
  {
   "cell_type": "code",
   "execution_count": null,
   "metadata": {},
   "outputs": [],
   "source": [
    "# 定义训练数据集\n",
    "class SFTDataset(Dataset):\n",
    "    def __init__(self,\n",
    "        tokenizer: AutoTokenizer,\n",
    "        data_path: str,\n",
    "        load_local: bool = False,\n",
    "        max_len: int = 256,\n",
    "        split_len: str = '1%',\n",
    "    ):\n",
    "        super().__init__()\n",
    "        self.tokenizer = tokenizer\n",
    "\n",
    "        if load_local:\n",
    "            ds = load_dataset('json', data_dir=data_path, split=f'train[:{split_len}]')\n",
    "        else:\n",
    "            ds = load_dataset(data_path, split=f'train[:{split_len}]')\n",
    "        self.max_len = max_len\n",
    "\n",
    "        def process_func(example):\n",
    "            # 提取 instruction 和 input\n",
    "            instruction = example['instruction'].strip()\n",
    "            input = example['input'].strip()\n",
    "            output = example['output'].strip()\n",
    "\n",
    "            # 构造模板\n",
    "            instruction_msg = [\n",
    "                {\"role\": \"user\", \"content\": (instruction + f\"\\n{input}\") if len(input) > 0 else instruction}\n",
    "            ]\n",
    "            tokenized_instruction = tokenizer.apply_chat_template(instruction_msg, tokenize=True, add_generation_prompt=True)\n",
    "            tokenized_output = tokenizer(output + \"<|im_end|>\" + f\"{tokenizer.eos_token}\\n\")['input_ids']\n",
    "\n",
    "            # 截断，最大不超过 max_len\n",
    "            tokenized_prompt = (tokenized_instruction + tokenized_output)[:self.max_len]\n",
    "\n",
    "            # 构造 input_ids, attention_mask, labels\n",
    "            input_ids = tokenized_prompt[:-1]\n",
    "            padding_mask = ([0] * len(tokenized_instruction) + [1] * (len(tokenized_output)))[:self.max_len][1:]\n",
    "            labels = tokenized_prompt[1:]\n",
    "\n",
    "            return {\n",
    "                'input_ids': input_ids,\n",
    "                'attention_mask': padding_mask,\n",
    "                'labels': labels,\n",
    "            }\n",
    "\n",
    "        self.ds = ds.map(\n",
    "            process_func,\n",
    "            batched=False,\n",
    "            remove_columns=ds.column_names,\n",
    "            desc='Processing dataset',\n",
    "        )\n",
    "\n",
    "    def __len__(self):\n",
    "        return len(self.ds)\n",
    "\n",
    "    def __getitem__(self, index: int):\n",
    "        return self.ds[index]"
   ]
  },
  {
   "cell_type": "code",
   "execution_count": null,
   "metadata": {},
   "outputs": [],
   "source": [
    "ds = SFTDataset(tokenizer, data_name_or_path, load_local=False)"
   ]
  },
  {
   "cell_type": "code",
   "execution_count": null,
   "metadata": {},
   "outputs": [],
   "source": [
    "print(len(ds[0]['input_ids']))\n",
    "print(len(ds[0]['attention_mask']))\n",
    "print(len(ds[0]['labels']))\n",
    "\n",
    "print(tokenizer.decode(ds[0]['input_ids']))\n",
    "print(ds[0]['attention_mask'])\n",
    "print(tokenizer.decode(ds[0]['labels']))"
   ]
  },
  {
   "cell_type": "code",
   "execution_count": null,
   "metadata": {},
   "outputs": [],
   "source": [
    "def collate_fn(batch: List, tokenizer):\n",
    "    max_len = max(len(item['input_ids']) for item in batch)\n",
    "\n",
    "    input_ids = []\n",
    "    attention_mask = []\n",
    "    labels = []\n",
    "\n",
    "    for item in batch:\n",
    "        input_id = item['input_ids']\n",
    "        attention_mask_item = item['attention_mask']\n",
    "        label = item['labels']\n",
    "\n",
    "        # 计算填充长度\n",
    "        pad_len = max_len - len(input_id)\n",
    "\n",
    "        # 左填充\n",
    "        input_ids.append([tokenizer.eos_token_id] * pad_len + input_id)\n",
    "        attention_mask.append([0] * pad_len + attention_mask_item)\n",
    "        labels.append([tokenizer.eos_token_id] * pad_len + label)\n",
    "\n",
    "    # 将列表转换为张量\n",
    "    input_ids = torch.LongTensor(input_ids)\n",
    "    attention_mask = torch.LongTensor(attention_mask)\n",
    "    labels = torch.LongTensor(labels)\n",
    "\n",
    "    return {\n",
    "        'input_ids': input_ids,\n",
    "        'attention_mask': attention_mask,\n",
    "        'labels': labels,\n",
    "    }"
   ]
  },
  {
   "cell_type": "code",
   "execution_count": null,
   "metadata": {},
   "outputs": [],
   "source": [
    "bsz = 8\n",
    "lr = 5e-4\n",
    "num_epochs = 3\n",
    "logging_steps = 5\n",
    "max_grad_norm = 1.0"
   ]
  },
  {
   "cell_type": "code",
   "execution_count": null,
   "metadata": {},
   "outputs": [],
   "source": [
    "dataloader = DataLoader(ds, batch_size=bsz, shuffle=True, collate_fn=lambda batch: collate_fn(batch, tokenizer))"
   ]
  },
  {
   "cell_type": "code",
   "execution_count": null,
   "metadata": {},
   "outputs": [],
   "source": [
    "optimizer = optim.AdamW(model.parameters(), lr=lr)"
   ]
  },
  {
   "cell_type": "code",
   "execution_count": null,
   "metadata": {},
   "outputs": [],
   "source": [
    "model.train()\n",
    "\n",
    "total_loss = 0\n",
    "total_step = 0\n",
    "for epoch in range(num_epochs):\n",
    "    for step, batch in enumerate(tqdm(dataloader, desc=f\"Epoch {epoch+1}/{num_epochs}\")):\n",
    "        input_ids = batch['input_ids'].to(device)\n",
    "        attention_mask = batch['attention_mask'].to(device)\n",
    "        labels = batch['labels'].to(device)\n",
    "\n",
    "        optimizer.zero_grad()\n",
    "        outputs = model(input_ids, attention_mask=attention_mask, labels=labels)\n",
    "        logits = outputs.logits\n",
    "        rearranged_logits = rearrange(logits, 'bsz seq_len vocab_size -> (bsz seq_len) vocab_size')\n",
    "        rearranged_attention_mask = rearrange(attention_mask, 'bsz seq_len -> (bsz seq_len)')\n",
    "        rearranged_labels = rearrange(labels, 'bsz seq_len -> (bsz seq_len)')\n",
    "\n",
    "        sum_loss = F.cross_entropy(rearranged_logits, rearranged_labels, ignore_index=0, reduction='none')\n",
    "        loss = torch.sum(sum_loss * rearranged_attention_mask) / torch.sum(rearranged_attention_mask)\n",
    "        loss.backward()\n",
    "\n",
    "        # 计算梯度范数并裁剪\n",
    "        total_norm = nn.utils.clip_grad_norm_(model.parameters(), max_grad_norm)\n",
    "\n",
    "        optimizer.step()\n",
    "        total_loss += loss.item()\n",
    "\n",
    "        total_step += 1\n",
    "        if total_step % logging_steps == 0:\n",
    "            avg_loss = total_loss / total_step\n",
    "            print(f\"Step: {step+1}/{len(dataloader)}, Loss: {avg_loss:.4f}, Grad Norm: {total_norm:.4f}\", flush=True)\n",
    "            # print(f\"Step: {step+1}/{len(dataloader)}, Loss: {avg_loss:.4f}\", flush=True)\n",
    "\n",
    "\n",
    "    # 打印每个 epoch 结束的累计损失\n",
    "    print(f\"Epoch {epoch+1} finished, Average Loss: {total_loss / total_step:.4f}\", flush=True)"
   ]
  },
  {
   "cell_type": "code",
   "execution_count": null,
   "metadata": {},
   "outputs": [],
   "source": [
    "def inference(\n",
    "    model,\n",
    "    tokenizer,\n",
    "    text: str,\n",
    "    max_new_tokens: int = 160,\n",
    "    do_sample: bool = True,\n",
    "    temperature: float = 0.3,\n",
    "    print_inputs: bool = True,\n",
    "    streaming: bool = False,\n",
    "):\n",
    "    # 构建输入\n",
    "    prompt_msg = [\n",
    "        {\"role\": \"user\", \"content\": text}\n",
    "    ]\n",
    "    prompt = tokenizer.apply_chat_template(prompt_msg, tokenize=False, add_generation_prompt=True)\n",
    "    inputs = tokenizer(prompt, return_tensors='pt', add_special_tokens=False).to(device)\n",
    "    input_ids = inputs['input_ids']\n",
    "    im_end_id = tokenizer.encode(\"<|im_end|>\")[0]\n",
    "\n",
    "    # 是否打印输入部分\n",
    "    if print_inputs:\n",
    "        print(prompt, end='')\n",
    "\n",
    "    # 生成\n",
    "    stop_words = [tokenizer.eos_token_id, im_end_id]\n",
    "    generated_tokens = []\n",
    "\n",
    "    for _ in range(max_new_tokens):\n",
    "        with torch.no_grad():\n",
    "            outputs = model(input_ids)\n",
    "\n",
    "        logits = outputs.logits[:, -1, :]\n",
    "\n",
    "        # 不同采样方式\n",
    "        if do_sample:\n",
    "            logits = logits / temperature\n",
    "            probs = F.softmax(logits, dim=-1)\n",
    "            next_token = torch.multinomial(probs, num_samples=1)\n",
    "        else:\n",
    "            # 贪婪解码\n",
    "            next_token = torch.argmax(logits, dim=-1, keepdim=True)\n",
    "        if next_token.item() in stop_words:\n",
    "            break\n",
    "        generated_tokens.append(next_token.item())\n",
    "        # 流式输出\n",
    "        if streaming:\n",
    "            yield tokenizer.decode(generated_tokens)\n",
    "\n",
    "        # 更新输入\n",
    "        input_ids = torch.cat([input_ids, next_token], dim=-1)\n",
    "\n",
    "    generated_text = tokenizer.decode(generated_tokens)\n",
    "    return generated_text"
   ]
  },
  {
   "cell_type": "code",
   "execution_count": null,
   "metadata": {},
   "outputs": [],
   "source": [
    "model.eval()\n",
    "\n",
    "for test_text in [\n",
    "    'Describe the process of bacterial conjugation and its significance in the context of antibiotic resistance.',\n",
    "    'Explain the role of insulin in the body and how insulin resistance affects blood sugar levels.',\n",
    "    'Provide recommendations for lifestyle changes that can help improve the overall health of a patient with type 2 diabetes.',\n",
    "]:\n",
    "    print('=' * 80)\n",
    "    last_text = ''\n",
    "    for text in inference(model, tokenizer, test_text, streaming=True):\n",
    "        cur_text = text.replace(last_text, '')\n",
    "        print(cur_text, end='', flush=True)\n",
    "        last_text = text\n",
    "    print('\\n')"
   ]
  }
 ],
 "metadata": {
  "kernelspec": {
   "display_name": "llm",
   "language": "python",
   "name": "python3"
  },
  "language_info": {
   "codemirror_mode": {
    "name": "ipython",
    "version": 3
   },
   "file_extension": ".py",
   "mimetype": "text/x-python",
   "name": "python",
   "nbconvert_exporter": "python",
   "pygments_lexer": "ipython3",
   "version": "3.8.19"
  }
 },
 "nbformat": 4,
 "nbformat_minor": 2
}
